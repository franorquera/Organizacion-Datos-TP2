{
  "nbformat": 4,
  "nbformat_minor": 0,
  "metadata": {
    "colab": {
      "name": "TP2-105554.ipynb",
      "provenance": [],
      "collapsed_sections": []
    },
    "kernelspec": {
      "name": "python3",
      "display_name": "Python 3"
    },
    "language_info": {
      "name": "python"
    }
  },
  "cells": [
    {
      "cell_type": "code",
      "source": [
        "!pip install pyspark"
      ],
      "metadata": {
        "id": "kgLktPZ2ThaB"
      },
      "execution_count": null,
      "outputs": []
    },
    {
      "cell_type": "code",
      "source": [
        "from pyspark.sql import *\n",
        "from pyspark.sql.functions import *\n",
        "from pyspark import SparkContext\n",
        "from pyspark.sql import SQLContext\n",
        "import pandas as pd"
      ],
      "metadata": {
        "id": "5VBrZtufKr02"
      },
      "execution_count": null,
      "outputs": []
    },
    {
      "cell_type": "code",
      "execution_count": null,
      "metadata": {
        "id": "9XhPz0GAJ2Dc"
      },
      "outputs": [],
      "source": [
        "# create the Spark Session\n",
        "spark = SparkSession.builder.getOrCreate()\n",
        "\n",
        "# create the Spark Context\n",
        "sc = spark.sparkContext\n",
        "\n",
        "sqlContext = SQLContext(sc)"
      ]
    },
    {
      "cell_type": "markdown",
      "source": [
        "# S5\n",
        "### Para los negocios que indican su horario, calcule la probabilidad de que un negocio esté abierto a las 21 horas del domingo. Si el domingo no apareciera en el diccionario asuma que no abre."
      ],
      "metadata": {
        "id": "I3SUxR5nLmp6"
      }
    },
    {
      "cell_type": "code",
      "source": [
        "import json"
      ],
      "metadata": {
        "id": "yaODx2JN5HYd"
      },
      "execution_count": null,
      "outputs": []
    },
    {
      "cell_type": "code",
      "source": [
        "businessesDf = pd.read_csv('/content/drive/MyDrive/Orga Datos/TP2/Dataset/business.csv')\n",
        "businessesDf.to_parquet('/content/drive/MyDrive/Orga Datos/TP2/business.parquet')"
      ],
      "metadata": {
        "id": "FG_ep6vMvGhu"
      },
      "execution_count": null,
      "outputs": []
    },
    {
      "cell_type": "code",
      "source": [
        "businessesDf = sqlContext.read.parquet('/content/drive/MyDrive/Orga Datos/TP2/business.parquet', header=True, inferSchema=True)\n",
        "businessesDfRdd = businessesDf.rdd"
      ],
      "metadata": {
        "id": "q_jOtloELmEK"
      },
      "execution_count": null,
      "outputs": []
    },
    {
      "cell_type": "code",
      "source": [
        "businessesHours = businessesDfRdd.map(lambda x: (x.name, x.hours))\\\n",
        "                    .filter(lambda x: x[1])\\\n",
        "                    .map(lambda x: (x[0], json.loads(x[1].replace(\"'\", '\"'))))"
      ],
      "metadata": {
        "id": "Zfb0na1ZRJMn"
      },
      "execution_count": null,
      "outputs": []
    },
    {
      "cell_type": "code",
      "source": [
        "numberOfBusinessesOpenSundayAt21 = businessesHours.filter(lambda x: 'Sunday' in x[1].keys())\\\n",
        "               .filter(lambda x: int(x[1]['Sunday'].split('-')[1].split(':')[0]) >= 21)\\\n",
        "               .count()"
      ],
      "metadata": {
        "id": "DZqD6zKn9fiM"
      },
      "execution_count": null,
      "outputs": []
    },
    {
      "cell_type": "code",
      "source": [
        "numberOfBusinesses = businessesHours.count()"
      ],
      "metadata": {
        "id": "NmGZgyMjmdPN"
      },
      "execution_count": null,
      "outputs": []
    },
    {
      "cell_type": "code",
      "source": [
        "probability = numberOfBusinessesOpenSundayAt21 / numberOfBusinesses"
      ],
      "metadata": {
        "id": "agzgmADhANa4"
      },
      "execution_count": null,
      "outputs": []
    },
    {
      "cell_type": "code",
      "source": [
        "print(\"La probabilidad de que un negocio este abierto un Domingo a las 21 es:\", probability)"
      ],
      "metadata": {
        "colab": {
          "base_uri": "https://localhost:8080/"
        },
        "id": "Iz9gU-5VCLcz",
        "outputId": "99ec5c20-d508-4dde-8fe9-ef20ce327c5f"
      },
      "execution_count": null,
      "outputs": [
        {
          "output_type": "stream",
          "name": "stdout",
          "text": [
            "La probabilidad de que un negocio este abierto un Domingo a las 21 es: 0.20529723181485648\n"
          ]
        }
      ]
    },
    {
      "cell_type": "markdown",
      "source": [
        "# S17\n",
        "### La antigüedad promedio de los usuarios y el nombre del usuario más antiguo cuyas última review contenga la palabra ‘pizza’"
      ],
      "metadata": {
        "id": "TQAKf2z4Dm3D"
      }
    },
    {
      "cell_type": "code",
      "source": [
        "reviewsDf = pd.read_csv('/content/drive/MyDrive/Orga Datos/TP2/Dataset/review.csv')\n",
        "usersDf = pd.read_csv('/content/drive/MyDrive/Orga Datos/TP2/Dataset/user.csv')"
      ],
      "metadata": {
        "id": "Hn_7gfHuDB-F"
      },
      "execution_count": null,
      "outputs": []
    },
    {
      "cell_type": "code",
      "source": [
        "reviewsDfSample = reviewsDf[:100000]\n",
        "usersDfSample = usersDf[:100000]"
      ],
      "metadata": {
        "id": "_pFgNw0CSdYX"
      },
      "execution_count": null,
      "outputs": []
    },
    {
      "cell_type": "code",
      "source": [
        "reviewsDfSample.to_parquet('/content/drive/MyDrive/Orga Datos/TP2/review.parquet')\n",
        "usersDfSample.to_parquet('/content/drive/MyDrive/Orga Datos/TP2/user.parquet')"
      ],
      "metadata": {
        "id": "ZQS1SE2IQZcP"
      },
      "execution_count": null,
      "outputs": []
    },
    {
      "cell_type": "code",
      "source": [
        "# Reviews\n",
        "reviewsPar = sqlContext.read.parquet('/content/drive/MyDrive/Orga Datos/TP2/review.parquet', header=True, inferSchema=True)\n",
        "reviewsParRdd = reviewsPar.rdd\n",
        "# Users\n",
        "usersPar = sqlContext.read.parquet('/content/drive/MyDrive/Orga Datos/TP2/user.parquet', header=True, inferSchema=True)\n",
        "usersParRdd = usersPar.rdd"
      ],
      "metadata": {
        "id": "-CHbDHVCFCIJ"
      },
      "execution_count": null,
      "outputs": []
    },
    {
      "cell_type": "code",
      "source": [
        "# Primer parte del ejercicio"
      ],
      "metadata": {
        "id": "QtXyU3JcjSm0"
      },
      "execution_count": null,
      "outputs": []
    },
    {
      "cell_type": "code",
      "source": [
        "usersAntiquity = usersParRdd.map(lambda x: (x.user_id, (x.yelping_since).split(' ')[0]))\\\n",
        "                            .filter(lambda x: x[1])"
      ],
      "metadata": {
        "id": "qB-n72GxFRzt"
      },
      "execution_count": null,
      "outputs": []
    },
    {
      "cell_type": "code",
      "source": [
        "usersAntiquityYears = usersAntiquity.map(lambda x: (x[0], x[1].split('-')))\\\n",
        "                                    .map(lambda x: int(x[1][0]))"
      ],
      "metadata": {
        "id": "DaFaBLjnYGgE"
      },
      "execution_count": null,
      "outputs": []
    },
    {
      "cell_type": "code",
      "source": [
        "yearSum = usersAntiquityYears.reduce(lambda x,y: x + y)"
      ],
      "metadata": {
        "id": "o-fxbE-qgQSG"
      },
      "execution_count": null,
      "outputs": []
    },
    {
      "cell_type": "code",
      "source": [
        "totalUsers = usersAntiquity.count()"
      ],
      "metadata": {
        "id": "Ko2WP08Nhs3s"
      },
      "execution_count": null,
      "outputs": []
    },
    {
      "cell_type": "code",
      "source": [
        "print('La antiguedad promedio en anios es:', yearSum//totalUsers)"
      ],
      "metadata": {
        "colab": {
          "base_uri": "https://localhost:8080/"
        },
        "id": "9uPaF2uLhyPq",
        "outputId": "d011d72b-c820-4402-f531-6f4e9d7c4281"
      },
      "execution_count": null,
      "outputs": [
        {
          "output_type": "stream",
          "name": "stdout",
          "text": [
            "La antiguedad promedio en anios es: 2011\n"
          ]
        }
      ]
    },
    {
      "cell_type": "code",
      "source": [
        "# Segunda parte mismo ejercicio"
      ],
      "metadata": {
        "id": "xN24aLX7jPEg"
      },
      "execution_count": null,
      "outputs": []
    },
    {
      "cell_type": "code",
      "source": [
        "usersReviews = reviewsParRdd.map(lambda x: (x.user_id, x.text)).filter(lambda x: x[1])"
      ],
      "metadata": {
        "id": "brVRVA0Jjjpa"
      },
      "execution_count": null,
      "outputs": []
    },
    {
      "cell_type": "code",
      "source": [
        "usersPizzaReviews = usersReviews.filter(lambda x: 'pizza' in x[1])"
      ],
      "metadata": {
        "id": "-LzgAMiclCDA"
      },
      "execution_count": null,
      "outputs": []
    },
    {
      "cell_type": "code",
      "source": [
        "usersPizzaReviewsAndDates = usersAntiquity.join(usersPizzaReviews)"
      ],
      "metadata": {
        "id": "NkAbLfmXkwYB"
      },
      "execution_count": null,
      "outputs": []
    },
    {
      "cell_type": "code",
      "source": [
        "userIdPizzaReviewDate = usersPizzaReviewsAndDates.map(lambda x: (x[0], x[1][0]))"
      ],
      "metadata": {
        "id": "BhFlIi2Algoy"
      },
      "execution_count": null,
      "outputs": []
    },
    {
      "cell_type": "code",
      "source": [
        "userNames = usersParRdd.map(lambda x: (x.user_id, x.name))"
      ],
      "metadata": {
        "id": "im56FGzrqXGT"
      },
      "execution_count": null,
      "outputs": []
    },
    {
      "cell_type": "code",
      "source": [
        "oldestUsers = userIdPizzaReviewDate.join(userNames)"
      ],
      "metadata": {
        "id": "MhdjnR6mqzPk"
      },
      "execution_count": null,
      "outputs": []
    },
    {
      "cell_type": "code",
      "source": [
        "oldestUsersName = oldestUsers.map(lambda x: (x[1][0], x[1][1])).reduce(lambda x,y: x if x < y else y)"
      ],
      "metadata": {
        "id": "ZCBlAFhJrIML"
      },
      "execution_count": null,
      "outputs": []
    },
    {
      "cell_type": "code",
      "source": [
        "print(\"El usuario mas antiguo con la palabra pizza en una de sus reviews es:\", oldestUsersName[1])"
      ],
      "metadata": {
        "colab": {
          "base_uri": "https://localhost:8080/"
        },
        "id": "PexlLGVRsAvJ",
        "outputId": "643ef465-dbc1-40f9-948e-d571e1e96674"
      },
      "execution_count": null,
      "outputs": [
        {
          "output_type": "stream",
          "name": "stdout",
          "text": [
            "El usuario mas antiguo con la palabra pizza en una de sus reviews es: Mel\n"
          ]
        }
      ]
    },
    {
      "cell_type": "markdown",
      "source": [
        "# S18\n",
        "### Queremos saber cuáles son los negocios más sexys, para esto vamos a ver cuáles son los nombres de los 3 negocios con más tips que contengan el texto “sexy”"
      ],
      "metadata": {
        "id": "8K6HAIxzhlBw"
      }
    },
    {
      "cell_type": "code",
      "source": [
        "tipsDf = pd.read_csv('/content/drive/MyDrive/Orga Datos/TP2/Dataset/tip.csv')"
      ],
      "metadata": {
        "id": "ImdoxIbegelN"
      },
      "execution_count": null,
      "outputs": []
    },
    {
      "cell_type": "code",
      "source": [
        "tipsDf.to_parquet('/content/drive/MyDrive/Orga Datos/TP2/tip.parquet')"
      ],
      "metadata": {
        "id": "-bQVpsP-k5tF"
      },
      "execution_count": null,
      "outputs": []
    },
    {
      "cell_type": "code",
      "source": [
        "# Reviews\n",
        "tipsDf = sqlContext.read.parquet('/content/drive/MyDrive/Orga Datos/TP2/tip.parquet', header=True, inferSchema=True)\n",
        "tipsDfRdd = tipsDf.rdd"
      ],
      "metadata": {
        "id": "zs2FdtF0k9PX"
      },
      "execution_count": null,
      "outputs": []
    },
    {
      "cell_type": "code",
      "source": [
        "businessesTips = tipsDfRdd.map(lambda x: (x.business_id, x.text)).filter(lambda x: x[1])"
      ],
      "metadata": {
        "id": "q1c3ntcilbzw"
      },
      "execution_count": null,
      "outputs": []
    },
    {
      "cell_type": "code",
      "source": [
        "businessesSexyTips = businessesTips.filter(lambda x: 'sexy' in x[1])"
      ],
      "metadata": {
        "id": "5T_vNXCNmIi2"
      },
      "execution_count": null,
      "outputs": []
    },
    {
      "cell_type": "code",
      "source": [
        "amountBusinessesSexyTips = businessesSexyTips.map(lambda x: (x[0], 1)).reduceByKey(lambda x,y: x+y)"
      ],
      "metadata": {
        "id": "SwzR-W6jm3O-"
      },
      "execution_count": null,
      "outputs": []
    },
    {
      "cell_type": "code",
      "source": [
        "businessesName = businessesDfRdd.map(lambda x: (x.business_id, x.name))"
      ],
      "metadata": {
        "id": "O2LArxbun3OV"
      },
      "execution_count": null,
      "outputs": []
    },
    {
      "cell_type": "code",
      "source": [
        "sexybusinesses = businessesName.join(amountBusinessesSexyTips)"
      ],
      "metadata": {
        "id": "x17sLCgypu6-"
      },
      "execution_count": null,
      "outputs": []
    },
    {
      "cell_type": "code",
      "source": [
        "topThreeSexys = sexybusinesses.takeOrdered(3, key=lambda x: -x[1][1])"
      ],
      "metadata": {
        "id": "teL6y8Vzp9S_"
      },
      "execution_count": null,
      "outputs": []
    },
    {
      "cell_type": "code",
      "source": [
        "print(\"Los tres negocios mas sexys son:\", topThreeSexys[0][1][0], \",\", topThreeSexys[1][1][0], \"y\", topThreeSexys[2][1][0])"
      ],
      "metadata": {
        "colab": {
          "base_uri": "https://localhost:8080/"
        },
        "id": "wR-9NAHdrrUs",
        "outputId": "6346e8db-ddd5-4886-ac97-1b4fb60d43d3"
      },
      "execution_count": null,
      "outputs": [
        {
          "output_type": "stream",
          "name": "stdout",
          "text": [
            "Los tres negocios mas sexys son: The Butcher And Barkeep , Mojo Tapas y Herosame\n"
          ]
        }
      ]
    },
    {
      "cell_type": "markdown",
      "source": [
        "# S31\n",
        "### Para los usuarios que tengan más de 100 reviews registradas, ¿cuál es el user_id cuya mediana del tiempo entre reviews es menor?"
      ],
      "metadata": {
        "id": "64BA8dt4tvii"
      }
    },
    {
      "cell_type": "code",
      "source": [
        "import statistics as stats\n",
        "from datetime import datetime"
      ],
      "metadata": {
        "id": "pFQxwR3-p8Au"
      },
      "execution_count": null,
      "outputs": []
    },
    {
      "cell_type": "code",
      "source": [
        "def timeBetweenReviewsFunc(dates):\n",
        "  dates.sort(reverse=True)\n",
        "  timeBetween = []\n",
        "  for i in range(len(dates)):\n",
        "    if i == 0: \n",
        "      y = dates[i]\n",
        "    else:\n",
        "      timeBetween.append((y-dates[i]).days)\n",
        "      y = dates[i]\n",
        "  return timeBetween"
      ],
      "metadata": {
        "id": "IMiIA55NqCQN"
      },
      "execution_count": null,
      "outputs": []
    },
    {
      "cell_type": "code",
      "source": [
        "usersDf = pd.read_csv('/content/drive/MyDrive/Orga Datos/TP2/Dataset/user.csv')\n",
        "reviewsDf = pd.read_csv('/content/drive/MyDrive/Orga Datos/TP2/Dataset/review.csv')"
      ],
      "metadata": {
        "id": "GB9-bVcC1mwH"
      },
      "execution_count": null,
      "outputs": []
    },
    {
      "cell_type": "code",
      "source": [
        "sampleUsers = usersDf[:100000]\n",
        "sampleReviews = reviewsDf[:100000]"
      ],
      "metadata": {
        "id": "Gj8F6ODa3TVA"
      },
      "execution_count": null,
      "outputs": []
    },
    {
      "cell_type": "code",
      "source": [
        "sampleUsers.to_parquet('/content/drive/MyDrive/Orga Datos/TP2/user.parquet')\n",
        "sampleReviews.to_parquet('/content/drive/MyDrive/Orga Datos/TP2/review.parquet')"
      ],
      "metadata": {
        "id": "_ZOhs2Ef1mqr"
      },
      "execution_count": null,
      "outputs": []
    },
    {
      "cell_type": "code",
      "source": [
        "# Users\n",
        "usersPar = sqlContext.read.parquet('/content/drive/MyDrive/Orga Datos/TP2/user.parquet', header=True, inferSchema=True)\n",
        "usersParRdd = usersPar.rdd\n",
        "# Reviews\n",
        "reviewsPar = sqlContext.read.parquet('/content/drive/MyDrive/Orga Datos/TP2/review.parquet', header=True, inferSchema=True)\n",
        "reviewsParRdd = reviewsPar.rdd"
      ],
      "metadata": {
        "id": "4XMy8aZ91mgP"
      },
      "execution_count": null,
      "outputs": []
    },
    {
      "cell_type": "code",
      "source": [
        "# Aca empieza"
      ],
      "metadata": {
        "id": "cN0TTgQR43Xq"
      },
      "execution_count": null,
      "outputs": []
    },
    {
      "cell_type": "code",
      "source": [
        "moreThan100Reviews = usersParRdd.map(lambda x: (x.user_id, x.review_count)).filter(lambda x: x[1] > 100)"
      ],
      "metadata": {
        "id": "83iReku0twPj"
      },
      "execution_count": null,
      "outputs": []
    },
    {
      "cell_type": "code",
      "source": [
        "usersReviewsDate = reviewsParRdd.map(lambda x: (x.user_id, (x.date).split(' ')[0].split('-')))\\\n",
        "                                .map(lambda x: (x[0], [int(y) for y in x[1]]))\\\n",
        "                                .map(lambda x: (x[0], datetime(x[1][0], x[1][1], x[1][2])))"
      ],
      "metadata": {
        "id": "qxJgmARwzWdJ"
      },
      "execution_count": null,
      "outputs": []
    },
    {
      "cell_type": "code",
      "source": [
        "users100ReviewsDates = moreThan100Reviews.join(usersReviewsDate)\n",
        "users100ReviewsDates = users100ReviewsDates.map(lambda x: (x[0], [x[1][1]]))"
      ],
      "metadata": {
        "id": "OkHJXVORjuXa"
      },
      "execution_count": null,
      "outputs": []
    },
    {
      "cell_type": "code",
      "source": [
        "users100ReviewsDatesGrouped = users100ReviewsDates.reduceByKey(lambda x,y: x + y)"
      ],
      "metadata": {
        "id": "ElktaIJwNqDE"
      },
      "execution_count": null,
      "outputs": []
    },
    {
      "cell_type": "code",
      "source": [
        "timeBetweenReviews = users100ReviewsDatesGrouped.map(lambda x: (x[0], timeBetweenReviewsFunc(x[1])))"
      ],
      "metadata": {
        "id": "7UxrvyV9ioBB"
      },
      "execution_count": null,
      "outputs": []
    },
    {
      "cell_type": "code",
      "source": [
        "timeBetweenReviewsMedian = timeBetweenReviews.filter(lambda x: x[1]).map(lambda x: (x[0], stats.median(x[1])))"
      ],
      "metadata": {
        "id": "3qeH5jauouOl"
      },
      "execution_count": null,
      "outputs": []
    },
    {
      "cell_type": "code",
      "source": [
        "smallestMedianBetweenReviews = timeBetweenReviewsMedian.reduce(lambda x,y: x if x < y else y)"
      ],
      "metadata": {
        "id": "Bv-EYcfJpLhE"
      },
      "execution_count": null,
      "outputs": []
    },
    {
      "cell_type": "code",
      "source": [
        "print(\"De los usuarios con mas de 100 reviews, el user_id cuya mediana del tiempo entre reviews es menor es:\", smallestMedianBetweenReviews[0])"
      ],
      "metadata": {
        "colab": {
          "base_uri": "https://localhost:8080/"
        },
        "id": "cS8X71AypdAF",
        "outputId": "6eed8cb9-a4eb-4424-e265-b83f4a446c65"
      },
      "execution_count": null,
      "outputs": [
        {
          "output_type": "stream",
          "name": "stdout",
          "text": [
            "De los usuarios con mas de 100 reviews, el user_id cuya mediana del tiempo entre reviews es menor es: -FxsSuwDbIII7yo5BjHpiA\n"
          ]
        }
      ]
    }
  ]
}